{
 "cells": [
  {
   "cell_type": "code",
   "execution_count": 61,
   "metadata": {
    "collapsed": false
   },
   "outputs": [],
   "source": [
    "from pyspark.sql.functions import lit, col, udf, avg\n",
    "from pyspark.sql.types import IntegerType"
   ]
  },
  {
   "cell_type": "code",
   "execution_count": 7,
   "metadata": {
    "collapsed": false
   },
   "outputs": [],
   "source": [
    "inputDF = sqlContext.read.format('com.databricks.spark.csv').options(header='true', inferschema='true').load(\"datathon_tadata.csv\")"
   ]
  },
  {
   "cell_type": "code",
   "execution_count": 10,
   "metadata": {
    "collapsed": false
   },
   "outputs": [],
   "source": [
    "inputDF.createOrReplaceTempView(\"input_data\")"
   ]
  },
  {
   "cell_type": "code",
   "execution_count": 36,
   "metadata": {
    "collapsed": false
   },
   "outputs": [
    {
     "name": "stdout",
     "output_type": "stream",
     "text": [
      "root\n",
      " |-- user_id: integer (nullable = true)\n",
      " |-- day: timestamp (nullable = true)\n",
      " |-- gender: integer (nullable = true)\n",
      " |-- p_sessionActivity: integer (nullable = true)\n",
      " |-- p_AddToCart: integer (nullable = true)\n",
      " |-- p_trafficChannel: string (nullable = true)\n",
      " |-- p_sessionDuration: integer (nullable = true)\n",
      " |-- p_pageViews: integer (nullable = true)\n",
      " |-- daysToCheckin: string (nullable = true)\n",
      " |-- osType: integer (nullable = true)\n",
      " |-- osTypeName: string (nullable = true)\n",
      " |-- daysFromPreviousVisit: integer (nullable = true)\n",
      " |-- p_TotalPrice: string (nullable = true)\n",
      " |-- isExclusiveMember: integer (nullable = true)\n",
      " |-- loggedIn: integer (nullable = true)\n",
      " |-- p_MapInteraction: integer (nullable = true)\n",
      " |-- BookingPurchase: integer (nullable = true)\n",
      "\n"
     ]
    }
   ],
   "source": [
    "inputDF.printSchema()"
   ]
  },
  {
   "cell_type": "markdown",
   "metadata": {},
   "source": [
    "inputDF.printSchema()"
   ]
  },
  {
   "cell_type": "code",
   "execution_count": 40,
   "metadata": {
    "collapsed": false
   },
   "outputs": [
    {
     "name": "stdout",
     "output_type": "stream",
     "text": [
      "root\n",
      " |-- user_id: integer (nullable = true)\n",
      " |-- gender: integer (nullable = true)\n",
      " |-- p_sessionActivity: integer (nullable = true)\n",
      " |-- p_AddToCart: integer (nullable = true)\n",
      " |-- p_trafficChannel: string (nullable = true)\n",
      " |-- p_sessionDuration: integer (nullable = true)\n",
      " |-- p_pageViews: integer (nullable = true)\n",
      " |-- daysToCheckin: string (nullable = true)\n",
      " |-- osType: integer (nullable = true)\n",
      " |-- daysFromPreviousVisit: integer (nullable = true)\n",
      " |-- p_TotalPrice: string (nullable = true)\n",
      " |-- isExclusiveMember: integer (nullable = true)\n",
      " |-- loggedIn: integer (nullable = true)\n",
      " |-- p_MapInteraction: integer (nullable = true)\n",
      " |-- BookingPurchase: integer (nullable = true)\n",
      "\n"
     ]
    }
   ],
   "source": [
    "selectDF = inputDF.select(\"user_id\", \"gender\", \"p_sessionActivity\", \"p_AddToCart\", \"p_trafficChannel\", \"p_sessionDuration\", \"p_pageViews\", \"daysToCheckin\", \"osType\", \"daysFromPreviousVisit\", \"p_TotalPrice\", \"isExclusiveMember\", \"loggedIn\", \"p_MapInteraction\", \"BookingPurchase\")\n",
    "selectDF.printSchema()\n",
    "# inputDF.filter(inputDF[\"daysToCheckin\"] != \"NA\").count()\n",
    "# inputDF.select(\"user_id\").distinct().count()"
   ]
  },
  {
   "cell_type": "code",
   "execution_count": 109,
   "metadata": {
    "collapsed": false
   },
   "outputs": [],
   "source": [
    "avg_price = int(selectDF.select(avg(\"p_TotalPrice\")).take(1)[0][0])\n",
    "avg_checkin_days = int(selectDF.select(avg(\"daysToCheckin\")).take(1)[0][0])"
   ]
  },
  {
   "cell_type": "code",
   "execution_count": 110,
   "metadata": {
    "collapsed": false
   },
   "outputs": [
    {
     "name": "stdout",
     "output_type": "stream",
     "text": [
      "1323 68\n"
     ]
    }
   ],
   "source": [
    "print(avg_price, avg_checkin_days)\n",
    "\n",
    "# UDF to filter and replace value\n",
    "def filterNA(cell_val, check_val, replace_val):\n",
    "    if (cell_val == check_val):\n",
    "        return replace_val\n",
    "    else:\n",
    "        return int(cell_val)\n",
    "\n",
    "filter_na_df = udf(filterNA, IntegerType())\n",
    "cleanedDF = selectDF \\\n",
    ".withColumn(\"cleaned_daysToCheckin\", filter_na_df(\"daysToCheckin\", lit(\"NA\"), lit(avg_checkin_days))) \\\n",
    ".withColumn(\"cleaned_totalPrice\", filter_na_df(\"p_TotalPrice\", lit(\"NA\"), lit(avg_price))) \\\n",
    ".drop(\"daysToCheckin\", \"p_TotalPrice\")"
   ]
  },
  {
   "cell_type": "code",
   "execution_count": 111,
   "metadata": {
    "collapsed": false
   },
   "outputs": [
    {
     "name": "stdout",
     "output_type": "stream",
     "text": [
      "root\n",
      " |-- user_id: integer (nullable = true)\n",
      " |-- gender: integer (nullable = true)\n",
      " |-- p_sessionActivity: integer (nullable = true)\n",
      " |-- p_AddToCart: integer (nullable = true)\n",
      " |-- p_trafficChannel: string (nullable = true)\n",
      " |-- p_sessionDuration: integer (nullable = true)\n",
      " |-- p_pageViews: integer (nullable = true)\n",
      " |-- osType: integer (nullable = true)\n",
      " |-- daysFromPreviousVisit: integer (nullable = true)\n",
      " |-- isExclusiveMember: integer (nullable = true)\n",
      " |-- loggedIn: integer (nullable = true)\n",
      " |-- p_MapInteraction: integer (nullable = true)\n",
      " |-- BookingPurchase: integer (nullable = true)\n",
      " |-- cleaned_daysToCheckin: integer (nullable = true)\n",
      " |-- cleaned_totalPrice: integer (nullable = true)\n",
      "\n"
     ]
    }
   ],
   "source": [
    "cleanedDF.printSchema()"
   ]
  },
  {
   "cell_type": "code",
   "execution_count": 112,
   "metadata": {
    "collapsed": false
   },
   "outputs": [
    {
     "name": "stdout",
     "output_type": "stream",
     "text": [
      "+---------------------+\n",
      "|cleaned_daysToCheckin|\n",
      "+---------------------+\n",
      "|                   68|\n",
      "|                   68|\n",
      "|                  123|\n",
      "|                   68|\n",
      "|                   68|\n",
      "+---------------------+\n",
      "only showing top 5 rows\n",
      "\n"
     ]
    }
   ],
   "source": [
    "cleanedDF.select(\"cleaned_daysToCheckin\").show(5)"
   ]
  },
  {
   "cell_type": "code",
   "execution_count": 1,
   "metadata": {
    "collapsed": false
   },
   "outputs": [
    {
     "data": {
      "text/plain": [
       "<pyspark.context.SparkContext at 0x1021fb128>"
      ]
     },
     "execution_count": 1,
     "metadata": {},
     "output_type": "execute_result"
    }
   ],
   "source": []
  },
  {
   "cell_type": "code",
   "execution_count": null,
   "metadata": {
    "collapsed": true
   },
   "outputs": [],
   "source": []
  }
 ],
 "metadata": {
  "anaconda-cloud": {},
  "kernelspec": {
   "display_name": "Python [default]",
   "language": "python",
   "name": "python3"
  },
  "language_info": {
   "codemirror_mode": {
    "name": "ipython",
    "version": 3
   },
   "file_extension": ".py",
   "mimetype": "text/x-python",
   "name": "python",
   "nbconvert_exporter": "python",
   "pygments_lexer": "ipython3",
   "version": "3.5.2"
  }
 },
 "nbformat": 4,
 "nbformat_minor": 2
}
