{
 "cells": [
  {
   "cell_type": "code",
   "execution_count": 1,
   "metadata": {
    "collapsed": false
   },
   "outputs": [],
   "source": [
    "from pyspark.sql.functions import lit, col, udf, avg\n",
    "from pyspark.sql.types import IntegerType, FloatType"
   ]
  },
  {
   "cell_type": "code",
   "execution_count": 2,
   "metadata": {
    "collapsed": false
   },
   "outputs": [],
   "source": [
    "inputDF = sqlContext.read.format('com.databricks.spark.csv').options(header='true', inferschema='true').load(\"datathon_tadata.csv\")"
   ]
  },
  {
   "cell_type": "code",
   "execution_count": 3,
   "metadata": {
    "collapsed": false
   },
   "outputs": [],
   "source": [
    "inputDF.createOrReplaceTempView(\"input_data\")"
   ]
  },
  {
   "cell_type": "code",
   "execution_count": 4,
   "metadata": {
    "collapsed": false
   },
   "outputs": [
    {
     "name": "stdout",
     "output_type": "stream",
     "text": [
      "root\n",
      " |-- user_id: integer (nullable = true)\n",
      " |-- day: timestamp (nullable = true)\n",
      " |-- gender: integer (nullable = true)\n",
      " |-- p_sessionActivity: integer (nullable = true)\n",
      " |-- p_AddToCart: integer (nullable = true)\n",
      " |-- p_trafficChannel: string (nullable = true)\n",
      " |-- p_sessionDuration: integer (nullable = true)\n",
      " |-- p_pageViews: integer (nullable = true)\n",
      " |-- daysToCheckin: string (nullable = true)\n",
      " |-- osType: integer (nullable = true)\n",
      " |-- osTypeName: string (nullable = true)\n",
      " |-- daysFromPreviousVisit: integer (nullable = true)\n",
      " |-- p_TotalPrice: string (nullable = true)\n",
      " |-- isExclusiveMember: integer (nullable = true)\n",
      " |-- loggedIn: integer (nullable = true)\n",
      " |-- p_MapInteraction: integer (nullable = true)\n",
      " |-- BookingPurchase: integer (nullable = true)\n",
      "\n"
     ]
    }
   ],
   "source": [
    "inputDF.printSchema()"
   ]
  },
  {
   "cell_type": "markdown",
   "metadata": {},
   "source": [
    "inputDF.printSchema()"
   ]
  },
  {
   "cell_type": "code",
   "execution_count": 5,
   "metadata": {
    "collapsed": false
   },
   "outputs": [
    {
     "name": "stdout",
     "output_type": "stream",
     "text": [
      "root\n",
      " |-- user_id: integer (nullable = true)\n",
      " |-- gender: integer (nullable = true)\n",
      " |-- p_sessionActivity: integer (nullable = true)\n",
      " |-- p_AddToCart: integer (nullable = true)\n",
      " |-- p_trafficChannel: string (nullable = true)\n",
      " |-- p_sessionDuration: integer (nullable = true)\n",
      " |-- p_pageViews: integer (nullable = true)\n",
      " |-- daysToCheckin: string (nullable = true)\n",
      " |-- osType: integer (nullable = true)\n",
      " |-- daysFromPreviousVisit: integer (nullable = true)\n",
      " |-- p_TotalPrice: string (nullable = true)\n",
      " |-- isExclusiveMember: integer (nullable = true)\n",
      " |-- loggedIn: integer (nullable = true)\n",
      " |-- p_MapInteraction: integer (nullable = true)\n",
      " |-- BookingPurchase: integer (nullable = true)\n",
      "\n"
     ]
    }
   ],
   "source": [
    "selectDF = inputDF.select(\"user_id\", \"gender\", \"p_sessionActivity\", \"p_AddToCart\", \"p_trafficChannel\", \"p_sessionDuration\", \"p_pageViews\", \"daysToCheckin\", \"osType\", \"daysFromPreviousVisit\", \"p_TotalPrice\", \"isExclusiveMember\", \"loggedIn\", \"p_MapInteraction\", \"BookingPurchase\").dropna()\n",
    "selectDF.printSchema()\n",
    "# inputDF.filter(inputDF[\"daysToCheckin\"] != \"NA\").count()\n",
    "# inputDF.select(\"user_id\").distinct().count()"
   ]
  },
  {
   "cell_type": "code",
   "execution_count": 6,
   "metadata": {
    "collapsed": false
   },
   "outputs": [],
   "source": [
    "avg_price = float(selectDF.select(avg(\"p_TotalPrice\")).take(1)[0][0])\n",
    "avg_checkin_days = float(selectDF.select(avg(\"daysToCheckin\")).take(1)[0][0])"
   ]
  },
  {
   "cell_type": "code",
   "execution_count": 7,
   "metadata": {
    "collapsed": false
   },
   "outputs": [
    {
     "name": "stdout",
     "output_type": "stream",
     "text": [
      "1323.2267780242526 68.29791432633138\n"
     ]
    }
   ],
   "source": [
    "print(avg_price, avg_checkin_days)\n",
    "\n",
    "# UDF to filter and replace value\n",
    "def filterNA(cell_val, check_val, replace_val):\n",
    "    print(cell_val)\n",
    "    if (cell_val == check_val):\n",
    "        return replace_val\n",
    "    else:\n",
    "        return float(cell_val)\n",
    "\n",
    "filter_na_df = udf(filterNA, FloatType())\n",
    "cleanedDF = selectDF \\\n",
    ".withColumn(\"cleaned_daysToCheckin\", filter_na_df(\"daysToCheckin\", lit(\"NA\"), lit(avg_checkin_days))) \\\n",
    ".withColumn(\"cleaned_totalPrice\", filter_na_df(\"p_TotalPrice\", lit(\"NA\"), lit(avg_price))) \\\n",
    ".drop(\"daysToCheckin\", \"p_TotalPrice\")"
   ]
  },
  {
   "cell_type": "code",
   "execution_count": 8,
   "metadata": {
    "collapsed": false
   },
   "outputs": [
    {
     "data": {
      "text/plain": [
       "1000000"
      ]
     },
     "execution_count": 8,
     "metadata": {},
     "output_type": "execute_result"
    }
   ],
   "source": [
    "cleanedDF.count()"
   ]
  },
  {
   "cell_type": "code",
   "execution_count": 9,
   "metadata": {
    "collapsed": false
   },
   "outputs": [
    {
     "name": "stdout",
     "output_type": "stream",
     "text": [
      "+-------------+\n",
      "|daysToCheckin|\n",
      "+-------------+\n",
      "|          296|\n",
      "|          125|\n",
      "|            7|\n",
      "|           51|\n",
      "|          124|\n",
      "|          447|\n",
      "|          307|\n",
      "|          169|\n",
      "|          205|\n",
      "|          544|\n",
      "|          272|\n",
      "|           15|\n",
      "|           54|\n",
      "|          232|\n",
      "|          234|\n",
      "|          282|\n",
      "|          383|\n",
      "|          155|\n",
      "|          154|\n",
      "|          132|\n",
      "|          317|\n",
      "|          200|\n",
      "|          388|\n",
      "|          495|\n",
      "|           11|\n",
      "|          101|\n",
      "|          279|\n",
      "|          415|\n",
      "|          433|\n",
      "|          138|\n",
      "|          323|\n",
      "|          351|\n",
      "|          361|\n",
      "|          387|\n",
      "|           29|\n",
      "|           69|\n",
      "|          309|\n",
      "|           42|\n",
      "|          112|\n",
      "|           73|\n",
      "|           87|\n",
      "|          468|\n",
      "|           64|\n",
      "|          308|\n",
      "|          348|\n",
      "|          356|\n",
      "|            3|\n",
      "|           30|\n",
      "|          113|\n",
      "|          432|\n",
      "|           34|\n",
      "|          133|\n",
      "|          287|\n",
      "|          365|\n",
      "|          389|\n",
      "|          162|\n",
      "|           59|\n",
      "|          139|\n",
      "|          146|\n",
      "|          310|\n",
      "|          250|\n",
      "|          352|\n",
      "|          379|\n",
      "|            8|\n",
      "|          160|\n",
      "|          258|\n",
      "|           22|\n",
      "|          203|\n",
      "|           28|\n",
      "|          184|\n",
      "|          199|\n",
      "|          343|\n",
      "|           85|\n",
      "|           35|\n",
      "|           16|\n",
      "|           52|\n",
      "|          251|\n",
      "|          171|\n",
      "|          183|\n",
      "|           NA|\n",
      "|            0|\n",
      "|          187|\n",
      "|          441|\n",
      "|           71|\n",
      "|           98|\n",
      "|          188|\n",
      "|          276|\n",
      "|          298|\n",
      "|          528|\n",
      "|           47|\n",
      "|          223|\n",
      "|          195|\n",
      "|           99|\n",
      "|          110|\n",
      "|          107|\n",
      "|          372|\n",
      "|          390|\n",
      "|          214|\n",
      "|          267|\n",
      "|          179|\n",
      "|          284|\n",
      "|          408|\n",
      "|          248|\n",
      "|           96|\n",
      "|          202|\n",
      "|          327|\n",
      "|          221|\n",
      "|          320|\n",
      "|           43|\n",
      "|          300|\n",
      "|            5|\n",
      "|          273|\n",
      "|          401|\n",
      "|          163|\n",
      "|           31|\n",
      "|          100|\n",
      "|           18|\n",
      "|          359|\n",
      "|           70|\n",
      "|          476|\n",
      "|          206|\n",
      "|          174|\n",
      "|          168|\n",
      "|          302|\n",
      "|          453|\n",
      "|          224|\n",
      "|          364|\n",
      "|          505|\n",
      "|           61|\n",
      "|          218|\n",
      "|           27|\n",
      "|           75|\n",
      "|          274|\n",
      "|          166|\n",
      "|          219|\n",
      "|          126|\n",
      "|          131|\n",
      "|           17|\n",
      "|          140|\n",
      "|           26|\n",
      "|          227|\n",
      "|          286|\n",
      "|          120|\n",
      "|          326|\n",
      "|           46|\n",
      "|          268|\n",
      "|          130|\n",
      "|          374|\n",
      "|          375|\n",
      "|          147|\n",
      "|          164|\n",
      "|          207|\n",
      "|          381|\n",
      "|           78|\n",
      "|          208|\n",
      "|          328|\n",
      "|           77|\n",
      "|           89|\n",
      "|          228|\n",
      "|          525|\n",
      "|          136|\n",
      "|          198|\n",
      "|          290|\n",
      "|            6|\n",
      "|          118|\n",
      "|          257|\n",
      "|          385|\n",
      "|          185|\n",
      "|          341|\n",
      "|          256|\n",
      "|          230|\n",
      "|          329|\n",
      "|          201|\n",
      "|          177|\n",
      "|          344|\n",
      "|           60|\n",
      "|           68|\n",
      "|           90|\n",
      "|          104|\n",
      "|          244|\n",
      "|          229|\n",
      "|          246|\n",
      "|          194|\n",
      "|           19|\n",
      "|          354|\n",
      "|          335|\n",
      "|          347|\n",
      "|           23|\n",
      "|          128|\n",
      "|          280|\n",
      "|           41|\n",
      "|          102|\n",
      "|           55|\n",
      "|          345|\n",
      "|          238|\n",
      "|          319|\n",
      "|          111|\n",
      "|          349|\n",
      "|          263|\n",
      "|          220|\n",
      "|          197|\n",
      "|          722|\n",
      "|          436|\n",
      "|          167|\n",
      "|           93|\n",
      "|           95|\n",
      "|           40|\n",
      "|          103|\n",
      "|           38|\n",
      "|          369|\n",
      "|          376|\n",
      "|           25|\n",
      "|          189|\n",
      "|          271|\n",
      "|          270|\n",
      "|          233|\n",
      "|          297|\n",
      "|          292|\n",
      "|          135|\n",
      "|           44|\n",
      "|          156|\n",
      "|          190|\n",
      "|          288|\n",
      "|          303|\n",
      "|          338|\n",
      "|          144|\n",
      "|          176|\n",
      "|           82|\n",
      "|          115|\n",
      "|          241|\n",
      "|          193|\n",
      "|          283|\n",
      "|           53|\n",
      "|          245|\n",
      "|          285|\n",
      "|           92|\n",
      "|          231|\n",
      "|          398|\n",
      "|          122|\n",
      "|          293|\n",
      "|          294|\n",
      "|          108|\n",
      "|          247|\n",
      "|          117|\n",
      "|          414|\n",
      "|           86|\n",
      "|           58|\n",
      "|          261|\n",
      "|          281|\n",
      "|          360|\n",
      "|          204|\n",
      "|          363|\n",
      "|          399|\n",
      "|           81|\n",
      "|          114|\n",
      "|           33|\n",
      "|          242|\n",
      "|          350|\n",
      "|          366|\n",
      "|          213|\n",
      "|          291|\n",
      "|          536|\n",
      "|          150|\n",
      "|          269|\n",
      "|          277|\n",
      "|          526|\n",
      "|          170|\n",
      "|          382|\n",
      "|          178|\n",
      "|           48|\n",
      "|          153|\n",
      "|          259|\n",
      "|          217|\n",
      "|          148|\n",
      "|          180|\n",
      "|          240|\n",
      "|          141|\n",
      "|          243|\n",
      "|          173|\n",
      "|          515|\n",
      "|           97|\n",
      "|          159|\n",
      "|          209|\n",
      "|          239|\n",
      "|          377|\n",
      "|          316|\n",
      "|          304|\n",
      "|          158|\n",
      "|           67|\n",
      "|          106|\n",
      "|          402|\n",
      "|           84|\n",
      "|          236|\n",
      "|          266|\n",
      "|          143|\n",
      "|          322|\n",
      "|           79|\n",
      "|          494|\n",
      "|           24|\n",
      "|            9|\n",
      "|          313|\n",
      "|          336|\n",
      "|          212|\n",
      "|          346|\n",
      "|           32|\n",
      "|          116|\n",
      "|          186|\n",
      "|          152|\n",
      "|          299|\n",
      "|          314|\n",
      "|          513|\n",
      "|           88|\n",
      "|          134|\n",
      "|          358|\n",
      "|            1|\n",
      "|          149|\n",
      "|          318|\n",
      "|          105|\n",
      "|          237|\n",
      "|          289|\n",
      "|           20|\n",
      "|          325|\n",
      "|          305|\n",
      "|          342|\n",
      "|          142|\n",
      "|          357|\n",
      "|           56|\n",
      "|          127|\n",
      "|          485|\n",
      "|          295|\n",
      "|           36|\n",
      "|          211|\n",
      "|          409|\n",
      "|           10|\n",
      "|          420|\n",
      "|           37|\n",
      "|          165|\n",
      "|          371|\n",
      "|          386|\n",
      "|           49|\n",
      "|          255|\n",
      "|          275|\n",
      "|          253|\n",
      "|          222|\n",
      "|          362|\n",
      "|          172|\n",
      "|          575|\n",
      "|           63|\n",
      "|          181|\n",
      "|          306|\n",
      "|           65|\n",
      "|          312|\n",
      "|          225|\n",
      "|          235|\n",
      "|          265|\n",
      "|          331|\n",
      "|            4|\n",
      "|          121|\n",
      "|           39|\n",
      "|          252|\n",
      "|          210|\n",
      "|          315|\n",
      "|          411|\n",
      "|           62|\n",
      "|          704|\n",
      "|           12|\n",
      "|          339|\n",
      "|           83|\n",
      "|          417|\n",
      "|          333|\n",
      "|          123|\n",
      "|          109|\n",
      "|          215|\n",
      "|          396|\n",
      "|          249|\n",
      "|           13|\n",
      "|          191|\n",
      "|          157|\n",
      "|          260|\n",
      "|           14|\n",
      "|           21|\n",
      "|          182|\n",
      "|           66|\n",
      "|          264|\n",
      "|           94|\n",
      "|          175|\n",
      "|           91|\n",
      "|           72|\n",
      "|          137|\n",
      "|           74|\n",
      "|          161|\n",
      "|          151|\n",
      "|          355|\n",
      "|          489|\n",
      "|          321|\n",
      "|          367|\n",
      "|          353|\n",
      "|          262|\n",
      "|          129|\n",
      "|          368|\n",
      "|           76|\n",
      "|          378|\n",
      "|            2|\n",
      "|          278|\n",
      "|          196|\n",
      "|          254|\n",
      "|          370|\n",
      "|          192|\n",
      "|          311|\n",
      "|           80|\n",
      "|          226|\n",
      "|          340|\n",
      "|          324|\n",
      "|          504|\n",
      "|          301|\n",
      "|          532|\n",
      "|           50|\n",
      "|          145|\n",
      "|          330|\n",
      "|           57|\n",
      "|           45|\n",
      "|          332|\n",
      "|          216|\n",
      "|          522|\n",
      "|          119|\n",
      "+-------------+\n",
      "\n"
     ]
    }
   ],
   "source": [
    "inputDF.select(col(\"daysToCheckin\")).distinct().show(inputDF.count())"
   ]
  },
  {
   "cell_type": "code",
   "execution_count": 10,
   "metadata": {
    "collapsed": false
   },
   "outputs": [
    {
     "name": "stdout",
     "output_type": "stream",
     "text": [
      "+----------------+\n",
      "|p_trafficChannel|\n",
      "+----------------+\n",
      "|               O|\n",
      "|               O|\n",
      "|               O|\n",
      "|               O|\n",
      "|               O|\n",
      "|               A|\n",
      "|               A|\n",
      "|               O|\n",
      "|               H|\n",
      "|               O|\n",
      "|               O|\n",
      "|               O|\n",
      "|               O|\n",
      "|               O|\n",
      "|               O|\n",
      "|               H|\n",
      "|               A|\n",
      "|               O|\n",
      "|               O|\n",
      "|               A|\n",
      "+----------------+\n",
      "only showing top 20 rows\n",
      "\n",
      "+-------+------+-----------------+-----------+-----------------+-----------+------+---------------------+-----------------+--------+----------------+---------------+---------------------+------------------+-------------------+\n",
      "|user_id|gender|p_sessionActivity|p_AddToCart|p_sessionDuration|p_pageViews|osType|daysFromPreviousVisit|isExclusiveMember|loggedIn|p_MapInteraction|BookingPurchase|cleaned_daysToCheckin|cleaned_totalPrice|trafficChannelIndex|\n",
      "+-------+------+-----------------+-----------+-----------------+-----------+------+---------------------+-----------------+--------+----------------+---------------+---------------------+------------------+-------------------+\n",
      "|      1|     1|                1|          0|               73|          1|     8|                   10|                0|       0|               0|              0|             68.29791|         1323.2268|                0.0|\n",
      "|      2|     1|                0|          0|              234|          4|     7|                   42|                0|       0|               0|              0|             68.29791|         1323.2268|                0.0|\n",
      "|      3|     0|               53|          0|              341|          5|     7|                    0|                1|       1|               0|              1|                123.0|             166.0|                0.0|\n",
      "|      4|     1|                0|          0|              778|          1|     7|                    1|                0|       0|               0|              0|             68.29791|         1323.2268|                0.0|\n",
      "|      5|     1|                0|          0|               34|          1|     7|                    2|                0|       0|               0|              0|             68.29791|         1323.2268|                0.0|\n",
      "|      6|     1|                1|          0|              375|          1|     7|                    2|                0|       0|               0|              1|             68.29791|         1323.2268|                1.0|\n",
      "|      7|     0|               39|          0|              825|         20|     7|                    0|                0|       0|               0|              0|             68.29791|         1323.2268|                1.0|\n",
      "|      8|     0|                0|          0|              320|          6|     8|                    7|                0|       0|               0|              1|             68.29791|         1323.2268|                0.0|\n",
      "|      9|     1|                0|          0|                2|          1|    10|                   14|                0|       0|               0|              1|             68.29791|         1323.2268|                2.0|\n",
      "|     10|     0|               64|          1|            35113|         96|     7|                    3|                1|       1|               0|              0|                135.0|            1340.0|                0.0|\n",
      "|     11|     1|                0|          0|              242|          8|     7|                   15|                0|       0|               0|              0|             68.29791|         1323.2268|                0.0|\n",
      "|     12|     0|                0|          0|                1|          1|     7|                   13|                0|       0|               0|              0|             68.29791|         1323.2268|                0.0|\n",
      "|     13|     0|               14|          0|              853|         15|     7|                    1|                0|       0|               0|              0|             68.29791|         1323.2268|                0.0|\n",
      "|     14|     1|                0|          0|              106|          3|    13|                    1|                0|       0|               0|              0|             68.29791|         1323.2268|                0.0|\n",
      "|     15|     1|                0|          0|                7|          1|     8|                    8|                0|       0|               0|              0|             68.29791|         1323.2268|                0.0|\n",
      "|     16|     1|                0|          0|              178|          3|     7|                    6|                0|       1|               0|              1|                 24.0|         1323.2268|                2.0|\n",
      "|     17|     0|                5|          0|             2375|          1|    10|                   48|                0|       0|               0|              1|             68.29791|         1323.2268|                1.0|\n",
      "|     18|     0|                0|          0|               18|          1|     8|                    2|                0|       0|               0|              1|             68.29791|         1323.2268|                0.0|\n",
      "|     19|     0|                8|          0|             6853|          7|     7|                    3|                1|       0|               0|              1|             68.29791|         1323.2268|                0.0|\n",
      "|     20|     0|                1|          0|              134|          1|    10|                    3|                0|       0|               0|              0|             68.29791|         1323.2268|                1.0|\n",
      "+-------+------+-----------------+-----------+-----------------+-----------+------+---------------------+-----------------+--------+----------------+---------------+---------------------+------------------+-------------------+\n",
      "only showing top 20 rows\n",
      "\n"
     ]
    }
   ],
   "source": [
    "from pyspark.ml.feature import StringIndexer\n",
    "\n",
    "cleanedDF.select(\"p_trafficChannel\").show()\n",
    "indexer = StringIndexer(inputCol=\"p_trafficChannel\", outputCol=\"trafficChannelIndex\")\n",
    "indexedDF = indexer.fit(cleanedDF).transform(cleanedDF).drop(\"p_trafficChannel\")\n",
    "indexedDF.show()"
   ]
  },
  {
   "cell_type": "code",
   "execution_count": 11,
   "metadata": {
    "collapsed": false
   },
   "outputs": [
    {
     "name": "stdout",
     "output_type": "stream",
     "text": [
      "root\n",
      " |-- user_id: integer (nullable = true)\n",
      " |-- gender: integer (nullable = true)\n",
      " |-- p_sessionActivity: integer (nullable = true)\n",
      " |-- p_AddToCart: integer (nullable = true)\n",
      " |-- p_sessionDuration: integer (nullable = true)\n",
      " |-- p_pageViews: integer (nullable = true)\n",
      " |-- osType: integer (nullable = true)\n",
      " |-- daysFromPreviousVisit: integer (nullable = true)\n",
      " |-- isExclusiveMember: integer (nullable = true)\n",
      " |-- loggedIn: integer (nullable = true)\n",
      " |-- p_MapInteraction: integer (nullable = true)\n",
      " |-- BookingPurchase: integer (nullable = true)\n",
      " |-- cleaned_daysToCheckin: float (nullable = true)\n",
      " |-- cleaned_totalPrice: float (nullable = true)\n",
      " |-- trafficChannelIndex: double (nullable = true)\n",
      "\n"
     ]
    }
   ],
   "source": [
    "indexedDF.count()\n",
    "indexedDF.printSchema()"
   ]
  },
  {
   "cell_type": "code",
   "execution_count": 12,
   "metadata": {
    "collapsed": true
   },
   "outputs": [],
   "source": [
    "pandaData = indexedDF.toPandas()"
   ]
  },
  {
   "cell_type": "code",
   "execution_count": 13,
   "metadata": {
    "collapsed": false
   },
   "outputs": [],
   "source": [
    "from pyspark.ml.feature import OneHotEncoder, StringIndexer\n",
    "\n",
    "encoder1 = OneHotEncoder(inputCol=\"trafficChannelIndex\", outputCol=\"trafficChannelVec\")\n",
    "encodedDF1 = encoder1.transform(indexedDF)\n",
    "encoder2 = OneHotEncoder(inputCol=\"osType\", outputCol=\"osTypeVec\")\n",
    "encodedDF2 = encoder2.transform(encodedDF1)\n",
    "# encodedDF2.show()"
   ]
  },
  {
   "cell_type": "code",
   "execution_count": 14,
   "metadata": {
    "collapsed": false
   },
   "outputs": [],
   "source": [
    "from pyspark.ml.feature import VectorAssembler\n",
    "\n",
    "assembler = VectorAssembler(\n",
    "    inputCols=[\"gender\", \"p_sessionActivity\", \"p_AddToCart\", \"p_sessionDuration\", \"p_pageViews\", \"osTypeVec\", \"daysFromPreviousVisit\", \"isExclusiveMember\", \"loggedIn\", \"p_MapInteraction\", \"trafficChannelVec\", \"cleaned_totalPrice\", \"cleaned_daysToCheckin\"],\n",
    "    outputCol=\"features\")\n",
    "\n",
    "featureDF = assembler.transform(encodedDF2).select(\"features\", col(\"BookingPurchase\").alias(\"label\"))"
   ]
  },
  {
   "cell_type": "code",
   "execution_count": 23,
   "metadata": {
    "collapsed": false
   },
   "outputs": [
    {
     "name": "stdout",
     "output_type": "stream",
     "text": [
      "Normalized using L^1 norm\n",
      "+----------------------------------------------------------------------------------------------------------------------------------------------------------------------------------------------------------------------------------------------------------------+-----+\n",
      "|features                                                                                                                                                                                                                                                        |label|\n",
      "+----------------------------------------------------------------------------------------------------------------------------------------------------------------------------------------------------------------------------------------------------------------+-----+\n",
      "|(32,[0,1,3,4,13,21,25,30,31],[1.7061155628897875,0.07621458492484058,0.139341767443334,0.19342423500843678,2.5034385300779474,0.41820058509836877,2.1795779516180187,2.8959357126310885,1.520697474294565])                                                     |0    |\n",
      "|(32,[0,3,4,12,21,25,30,31],[1.681885939184139,0.44031391199736736,0.7627091815682671,1.5343341893758704,1.7314981097209787,2.148624389764692,2.8548087021758577,1.499101089868015])                                                                             |0    |\n",
      "|(32,[1,3,4,12,22,23,25,30,31],[13.326080603447243,2.147342458174241,3.1905780250225386,5.134762308850221,4.520596742313585,4.5803539074255815,7.1905296830593795,1.198536299037833,9.035017187338704])                                                          |1    |\n",
      "|(32,[0,3,4,12,21,25,30,31],[1.4735142358514237,1.2825784637387991,0.1670539616676683,1.3442429227368502,0.03611856834246862,1.8824276676881255,2.501121607169878,1.3133749117210862])                                                                           |0    |\n",
      "|(32,[0,3,4,12,21,25,30,31],[1.7081877586289866,0.06497772960851816,0.19365916216364273,1.558328551821517,0.08374170374561671,2.1822252002820806,2.899453027504264,1.5225444668989268])                                                                          |0    |\n",
      "|(32,[0,1,3,4,12,21,26,30,31],[1.644168394917096,0.07344731769101308,0.6898069627065894,0.18640121509309063,1.4999256029432528,0.08060323693313533,1.4730401543574796,2.790787491765781,1.4654826319211598])                                                     |1    |\n",
      "|(32,[1,3,4,12,26,30,31],[2.526133633477549,1.3383386764751035,3.287717618355705,1.322773520697432,1.2990634384029847,2.4611752667982443,1.2923985141285916])                                                                                                    |0    |\n",
      "|(32,[3,4,13,21,25,30,31],[0.5946470122437579,1.1298295943607988,2.437180755229379,0.284992534830473,2.1218916999093684,2.819289829731194,1.4804496193326706])                                                                                                   |1    |\n",
      "|(32,[0,3,4,15,21,27,30,31],[1.7086546791848403,0.003823264164284348,0.19371209747077558,1.9330123543535003,0.58635215746945,3.509958444696049,2.9002455716566473,1.5229606432268539])                                                                           |1    |\n",
      "|(32,[1,2,3,4,12,21,22,23,25,30,31],[0.18420934727614033,0.3609833355118973,2.5311622937197225,0.7012545980555068,0.058779443247361174,0.004738048388768068,0.05174887242609813,0.05243293386537248,0.08231254067892695,0.11075236923680962,0.11351748576847112])|0    |\n",
      "|(32,[0,3,4,12,21,25,30,31],[1.6808117362463242,0.4550765406974769,1.524444094401121,1.5333542261955986,0.6179972214319094,2.147252085865852,2.852985365751353,1.4981436296994624])                                                                              |0    |\n",
      "|(32,[3,4,12,21,25,30,31],[0.0019116489580545731,0.19371380756364237,1.5587682701704644,0.5444746670942184,2.1828409654626504,2.9002711750615395,1.522974087942834])                                                                                             |0    |\n",
      "|(32,[1,3,4,12,21,25,30,31],[0.8984751318406964,1.3710314674342623,2.443104725133815,1.3106049500338188,0.03521474702012689,1.8353223049370209,2.4385342139793305,1.280509371808574])                                                                            |0    |\n",
      "|(32,[0,3,4,18,21,25,30,31],[1.703305681179528,0.2019986516312761,0.5793170267018257,3.804074483426293,0.04175118309478015,2.1759883025018927,2.8911662603325428,1.518192966327578])                                                                             |0    |\n",
      "|(32,[0,3,4,13,21,25,30,31],[1.708697012784636,0.013381756112947008,0.19371689687846738,2.5072263749759114,0.3350666770975491,2.182875777038759,2.9003174280924946,1.5229983760743162])                                                                          |0    |\n",
      "|(32,[0,3,4,12,21,23,27,30,31],[1.6954573587554074,0.33764232657917004,0.5766477073532339,1.5467149891444105,0.24935283688751483,1.3797137273502504,3.4828482000966265,2.877844632134182,0.5310373440265281])                                                    |1    |\n",
      "|(32,[1,3,4,15,21,26,30,31],[0.18591647123827798,2.211728648597711,0.09436711164981045,0.9416695965065344,0.9793448595544805,0.7457384043418657,1.4128585733458445,0.7419123479334461])                                                                          |1    |\n",
      "|(32,[3,4,13,21,25,30,31],[0.03440813310010044,0.19370509207925315,2.507073588593215,0.08376156466695467,2.182742756064994,2.900140687366993,1.5229055669785538])                                                                                                |1    |\n",
      "|(32,[1,3,4,12,21,22,25,30,31],[0.11592057757287096,2.486976303457222,0.2574194680489322,0.29591319274072236,0.023852744235431957,0.2605192090012947,0.414385801723213,0.5505811990466627,0.2891181027025071])                                                   |1    |\n",
      "|(32,[1,3,4,15,21,26,30,31],[0.07594477664652047,0.2548725555891415,0.19273949126963041,1.9233069212531329,0.12501603227280017,1.5231285366289564,2.885683771621094,1.5153140326896575])                                                                         |0    |\n",
      "+----------------------------------------------------------------------------------------------------------------------------------------------------------------------------------------------------------------------------------------------------------------+-----+\n",
      "only showing top 20 rows\n",
      "\n"
     ]
    }
   ],
   "source": [
    "from pyspark.ml.feature import Normalizer, StandardScaler\n",
    "\n",
    "# Normalize each Vector using $L^1$ norm.\n",
    "normalizer = Normalizer(inputCol=\"features\", outputCol=\"normFeatures\", p=2.0)\n",
    "normDF = normalizer.transform(featureDF)\n",
    "print(\"Normalized using L^1 norm\")\n",
    "\n",
    "scaler = StandardScaler(inputCol=\"normFeatures\", outputCol=\"scaledFeatures\",\n",
    "                        withStd=True, withMean=False)\n",
    "\n",
    "# Compute summary statistics by fitting the StandardScaler\n",
    "scalerModel = scaler.fit(normDF)\n",
    "\n",
    "# Normalize each feature to have unit standard deviation.\n",
    "scaledDF = scalerModel.transform(normDF).select(col(\"scaledFeatures\").alias(\"features\"), \"label\")\n",
    "scaledDF.show(truncate=False).map(lambda row: row.get[0].toArray(), )"
   ]
  },
  {
   "cell_type": "code",
   "execution_count": 16,
   "metadata": {
    "collapsed": false
   },
   "outputs": [],
   "source": [
    "from pyspark.ml.evaluation import BinaryClassificationEvaluator\n",
    "from pyspark.ml.classification import LogisticRegression\n",
    "from pyspark.ml.tuning import ParamGridBuilder, TrainValidationSplit\n",
    "\n",
    "train, test = scaledDF.randomSplit([0.8, 0.2], seed=12345)\n",
    "\n",
    "lr = LogisticRegression(maxIter=10)\n",
    "\n",
    "\n",
    "# We use a ParamGridBuilder to construct a grid of parameters to search over.\n",
    "# TrainValidationSplit will try all combinations of values and determine best model using\n",
    "# the evaluator.\n",
    "paramGrid = ParamGridBuilder()\\\n",
    "    .addGrid(lr.regParam, [0.1, 0.3, 0.01]) \\\n",
    "    .addGrid(lr.elasticNetParam, [0.0, 0.5, 0.8, 1.0])\\\n",
    "    .build()\n",
    "\n",
    "# In this case the estimator is simply the linear regression.\n",
    "# A TrainValidationSplit requires an Estimator, a set of Estimator ParamMaps, and an Evaluator.\n",
    "tvs = TrainValidationSplit(estimator=lr,\n",
    "                           estimatorParamMaps=paramGrid,\n",
    "                           evaluator=BinaryClassificationEvaluator(),\n",
    "                           # 80% of the data will be used for training, 20% for validation.\n",
    "                           trainRatio=0.8)\n",
    "\n",
    "# Run TrainValidationSplit, and choose the best set of parameters.\n",
    "model = tvs.fit(train)"
   ]
  },
  {
   "cell_type": "code",
   "execution_count": 17,
   "metadata": {
    "collapsed": false
   },
   "outputs": [
    {
     "name": "stdout",
     "output_type": "stream",
     "text": [
      "+--------------------+-----+----------+\n",
      "|            features|label|prediction|\n",
      "+--------------------+-----+----------+\n",
      "|(32,[0,1,2,3,4,6,...|    1|       0.0|\n",
      "|(32,[0,1,2,3,4,6,...|    0|       0.0|\n",
      "|(32,[0,1,2,3,4,6,...|    0|       0.0|\n",
      "|(32,[0,1,2,3,4,12...|    1|       0.0|\n",
      "|(32,[0,1,2,3,4,12...|    0|       0.0|\n",
      "|(32,[0,1,2,3,4,12...|    0|       0.0|\n",
      "|(32,[0,1,2,3,4,12...|    1|       0.0|\n",
      "|(32,[0,1,2,3,4,12...|    1|       0.0|\n",
      "|(32,[0,1,2,3,4,12...|    0|       0.0|\n",
      "|(32,[0,1,2,3,4,12...|    0|       0.0|\n",
      "|(32,[0,1,2,3,4,12...|    0|       0.0|\n",
      "|(32,[0,1,2,3,4,12...|    0|       0.0|\n",
      "|(32,[0,1,2,3,4,12...|    0|       0.0|\n",
      "|(32,[0,1,2,3,4,12...|    0|       0.0|\n",
      "|(32,[0,1,2,3,4,12...|    1|       0.0|\n",
      "|(32,[0,1,2,3,4,12...|    0|       0.0|\n",
      "|(32,[0,1,2,3,4,12...|    1|       0.0|\n",
      "|(32,[0,1,2,3,4,12...|    1|       0.0|\n",
      "|(32,[0,1,2,3,4,12...|    0|       0.0|\n",
      "|(32,[0,1,2,3,4,12...|    1|       0.0|\n",
      "+--------------------+-----+----------+\n",
      "only showing top 20 rows\n",
      "\n"
     ]
    }
   ],
   "source": [
    "# Make predictions on test data. model is the model with combination of parameters\n",
    "# that performed best.\n",
    "result = model.transform(test)\n",
    "result.select(\"features\", \"label\", \"prediction\").show()"
   ]
  },
  {
   "cell_type": "code",
   "execution_count": 18,
   "metadata": {
    "collapsed": false
   },
   "outputs": [],
   "source": [
    "def mapRow(row):\n",
    "    if (row[0] == int(row[1])): \n",
    "         return 1\n",
    "    else:\n",
    "         return 0"
   ]
  },
  {
   "cell_type": "code",
   "execution_count": 19,
   "metadata": {
    "collapsed": false
   },
   "outputs": [],
   "source": [
    "numCorrectPredictions = result.select(\"label\", \"prediction\").rdd.map(lambda row: mapRow(row)).reduce(lambda a, b: a+b)"
   ]
  },
  {
   "cell_type": "code",
   "execution_count": 20,
   "metadata": {
    "collapsed": false
   },
   "outputs": [],
   "source": [
    "numCorrectPredictions\n",
    "accuracy = 1.0 * numCorrectPredictions / result.count()"
   ]
  },
  {
   "cell_type": "code",
   "execution_count": 21,
   "metadata": {
    "collapsed": false
   },
   "outputs": [
    {
     "name": "stdout",
     "output_type": "stream",
     "text": [
      "Test set accuracy: 0.7847319393915164\n"
     ]
    }
   ],
   "source": [
    "print(\"Test set accuracy: \" + str(accuracy))"
   ]
  },
  {
   "cell_type": "code",
   "execution_count": 24,
   "metadata": {
    "collapsed": false
   },
   "outputs": [
    {
     "name": "stdout",
     "output_type": "stream",
     "text": [
      "Test set accuracy = 0.7842442228817234\n"
     ]
    }
   ],
   "source": [
    "#Multi Layer perceptron\n",
    "from pyspark.ml.classification import MultilayerPerceptronClassifier\n",
    "from pyspark.ml.evaluation import MulticlassClassificationEvaluator\n",
    "\n",
    "# Split the data into train and test\n",
    "splits = scaledDF.randomSplit([0.7, 0.3], 1234)\n",
    "train = splits[0]\n",
    "test = splits[1]\n",
    "\n",
    "# specify layers for the neural network:\n",
    "# input layer of size 4 (features), two intermediate of size 5 and 4\n",
    "# and output of size 3 (classes)\n",
    "layers = [32, 20, 10, 7, 4, 2]\n",
    "\n",
    "# create the trainer and set its parameters\n",
    "trainer = MultilayerPerceptronClassifier(maxIter=100, layers=layers, blockSize=128, seed=1234)\n",
    "\n",
    "# train the model\n",
    "model = trainer.fit(train)\n",
    "\n",
    "# compute accuracy on the test set\n",
    "percResult = model.transform(test)\n",
    "predictionAndLabels = percResult.select(\"prediction\", \"label\")\n",
    "evaluator = MulticlassClassificationEvaluator(metricName=\"accuracy\")\n",
    "print(\"Test set accuracy = \" + str(evaluator.evaluate(predictionAndLabels)))"
   ]
  },
  {
   "cell_type": "code",
   "execution_count": null,
   "metadata": {
    "collapsed": false
   },
   "outputs": [],
   "source": [
    "# Random Forest\n",
    "from pyspark.ml import Pipeline\n",
    "from pyspark.ml.classification import RandomForestClassifier\n",
    "from pyspark.ml.feature import IndexToString, StringIndexer, VectorIndexer\n",
    "from pyspark.ml.evaluation import MulticlassClassificationEvaluator\n",
    "\n",
    "# Split the data into training and test sets (30% held out for testing)\n",
    "(trainingData, testData) = scaledDF.randomSplit([0.7, 0.3])\n",
    "\n",
    "# Train a RandomForest model.\n",
    "rf = RandomForestClassifier(labelCol=\"label\", featuresCol=\"features\", numTrees=25)\n",
    "\n",
    "# Train model.  This also runs the indexers.\n",
    "rfmodel = rf.fit(trainingData)\n",
    "\n",
    "# Make predictions.\n",
    "rfpredictions = rfmodel.transform(testData)\n",
    "\n",
    "# Select example rows to display.\n",
    "rfpredictions.select(\"prediction\", \"label\", \"features\").show(5)\n",
    "\n",
    "# Select (prediction, true label) and compute test error\n",
    "evaluator = MulticlassClassificationEvaluator(\n",
    "    labelCol=\"label\", predictionCol=\"prediction\", metricName=\"accuracy\")\n",
    "accuracy = evaluator.evaluate(rfpredictions)\n",
    "print(\"Test Accuracy = %g\" % accuracy)\n",
    "\n",
    "# rfModel = rfmodel.stages[2]\n",
    "# print(rfModel)  # summary only"
   ]
  },
  {
   "cell_type": "code",
   "execution_count": 32,
   "metadata": {
    "collapsed": false
   },
   "outputs": [
    {
     "data": {
      "text/plain": [
       "300323"
      ]
     },
     "execution_count": 32,
     "metadata": {},
     "output_type": "execute_result"
    }
   ],
   "source": [
    "rfpredictions.filter(col(\"prediction\") == 0.0).count()"
   ]
  },
  {
   "cell_type": "code",
   "execution_count": null,
   "metadata": {
    "collapsed": true
   },
   "outputs": [],
   "source": []
  }
 ],
 "metadata": {
  "anaconda-cloud": {},
  "kernelspec": {
   "display_name": "Python [default]",
   "language": "python",
   "name": "python3"
  },
  "language_info": {
   "codemirror_mode": {
    "name": "ipython",
    "version": 3
   },
   "file_extension": ".py",
   "mimetype": "text/x-python",
   "name": "python",
   "nbconvert_exporter": "python",
   "pygments_lexer": "ipython3",
   "version": "3.5.2"
  }
 },
 "nbformat": 4,
 "nbformat_minor": 2
}
